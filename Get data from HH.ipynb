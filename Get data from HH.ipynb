{
 "cells": [
  {
   "cell_type": "code",
   "execution_count": 130,
   "metadata": {},
   "outputs": [],
   "source": [
    "import requests\n",
    "from datetime import datetime\n",
    "import pandas as pd"
   ]
  },
  {
   "cell_type": "code",
   "execution_count": 173,
   "metadata": {},
   "outputs": [],
   "source": [
    "params = {\n",
    "    'text': 'NAME:\"программист 1С\" OR \"1C программист\"', # Текст фильтра. В имени должно быть слово \"Аналитик\"\n",
    "    'area': 73, # Петрозаводск\n",
    "    'page': 0, # Индекс страницы поиска на HH\n",
    "    'per_page': 100 # Кол-во вакансий на 1 странице\n",
    "    }\n",
    "r = requests.get('https://api.hh.ru/vacancies', params).json()"
   ]
  },
  {
   "cell_type": "code",
   "execution_count": 174,
   "metadata": {},
   "outputs": [
    {
     "data": {
      "text/plain": [
       "1"
      ]
     },
     "execution_count": 174,
     "metadata": {},
     "output_type": "execute_result"
    }
   ],
   "source": [
    "r['pages']"
   ]
  },
  {
   "cell_type": "code",
   "execution_count": 175,
   "metadata": {},
   "outputs": [
    {
     "data": {
      "text/plain": [
       "3"
      ]
     },
     "execution_count": 175,
     "metadata": {},
     "output_type": "execute_result"
    }
   ],
   "source": [
    "len(r['items'])"
   ]
  },
  {
   "cell_type": "code",
   "execution_count": 176,
   "metadata": {},
   "outputs": [
    {
     "name": "stdout",
     "output_type": "stream",
     "text": [
      "Инженер-программист 1С\n",
      "Разработчик 1С\n",
      "1 С Программист\n"
     ]
    }
   ],
   "source": [
    "for i in range(len(r['items'])):\n",
    "    print(r['items'][i]['name'])"
   ]
  },
  {
   "cell_type": "code",
   "execution_count": 177,
   "metadata": {},
   "outputs": [
    {
     "data": {
      "text/plain": [
       "'Инженер-программист 1С'"
      ]
     },
     "execution_count": 177,
     "metadata": {},
     "output_type": "execute_result"
    }
   ],
   "source": [
    "r['items'][0]['name']"
   ]
  },
  {
   "cell_type": "code",
   "execution_count": 178,
   "metadata": {},
   "outputs": [
    {
     "data": {
      "text/plain": [
       "'https://hh.ru/vacancy/54687609'"
      ]
     },
     "execution_count": 178,
     "metadata": {},
     "output_type": "execute_result"
    }
   ],
   "source": [
    "r['items'][0]['alternate_url']"
   ]
  },
  {
   "cell_type": "code",
   "execution_count": 179,
   "metadata": {},
   "outputs": [
    {
     "data": {
      "text/plain": [
       "80000"
      ]
     },
     "execution_count": 179,
     "metadata": {},
     "output_type": "execute_result"
    }
   ],
   "source": [
    "r['items'][0]['salary']['from']\n",
    "r['items'][0]['salary']['to']"
   ]
  },
  {
   "cell_type": "code",
   "execution_count": 189,
   "metadata": {},
   "outputs": [
    {
     "data": {
      "text/plain": [
       "{'id': '54998789',\n",
       " 'premium': False,\n",
       " 'name': '1 С Программист',\n",
       " 'department': None,\n",
       " 'has_test': False,\n",
       " 'response_letter_required': False,\n",
       " 'area': {'id': '73',\n",
       "  'name': 'Петрозаводск',\n",
       "  'url': 'https://api.hh.ru/areas/73'},\n",
       " 'salary': {'from': 60000, 'to': None, 'currency': 'RUR', 'gross': False},\n",
       " 'type': {'id': 'open', 'name': 'Открытая'},\n",
       " 'address': {'city': 'Петрозаводск',\n",
       "  'street': 'район Голиковка, Повенецкая улица',\n",
       "  'building': '16с2',\n",
       "  'description': None,\n",
       "  'lat': 61.771271,\n",
       "  'lng': 34.352115,\n",
       "  'raw': 'Петрозаводск, район Голиковка, Повенецкая улица, 16с2',\n",
       "  'metro': None,\n",
       "  'metro_stations': [],\n",
       "  'id': '692085'},\n",
       " 'response_url': None,\n",
       " 'sort_point_distance': None,\n",
       " 'published_at': '2022-04-25T12:52:02+0300',\n",
       " 'created_at': '2022-04-25T12:52:02+0300',\n",
       " 'archived': False,\n",
       " 'apply_alternate_url': 'https://hh.ru/applicant/vacancy_response?vacancyId=54998789',\n",
       " 'insider_interview': None,\n",
       " 'url': 'https://api.hh.ru/vacancies/54998789?host=hh.ru',\n",
       " 'alternate_url': 'https://hh.ru/vacancy/54998789',\n",
       " 'relations': [],\n",
       " 'employer': {'id': '1591021',\n",
       "  'name': 'BSG engineering company',\n",
       "  'url': 'https://api.hh.ru/employers/1591021',\n",
       "  'alternate_url': 'https://hh.ru/employer/1591021',\n",
       "  'logo_urls': {'90': 'https://hhcdn.ru/employer-logo/3738203.jpeg',\n",
       "   '240': 'https://hhcdn.ru/employer-logo/3738204.jpeg',\n",
       "   'original': 'https://hhcdn.ru/employer-logo-original/824329.jpg'},\n",
       "  'vacancies_url': 'https://api.hh.ru/vacancies?employer_id=1591021',\n",
       "  'trusted': True},\n",
       " 'snippet': {'requirement': 'Знание платформы 1С Предприятие 8.2, 8.3. Знание конфигурации Управление торговлей 10.3. Начальный опыт самостоятельной разработки. ',\n",
       "  'responsibility': 'Доработка самописной конфигурации на базе Управление торговлей 10.3. Разработка отчетов (СКД), обработок под нужды сотрудников. Консультирование сотрудников.'},\n",
       " 'contacts': None,\n",
       " 'schedule': {'id': 'fullDay', 'name': 'Полный день'},\n",
       " 'working_days': [],\n",
       " 'working_time_intervals': [],\n",
       " 'working_time_modes': [],\n",
       " 'accept_temporary': False}"
      ]
     },
     "execution_count": 189,
     "metadata": {},
     "output_type": "execute_result"
    }
   ],
   "source": [
    "r['items'][2]"
   ]
  },
  {
   "cell_type": "code",
   "execution_count": null,
   "metadata": {},
   "outputs": [],
   "source": []
  }
 ],
 "metadata": {
  "kernelspec": {
   "display_name": "Python 3",
   "language": "python",
   "name": "python3"
  },
  "language_info": {
   "codemirror_mode": {
    "name": "ipython",
    "version": 3
   },
   "file_extension": ".py",
   "mimetype": "text/x-python",
   "name": "python",
   "nbconvert_exporter": "python",
   "pygments_lexer": "ipython3",
   "version": "3.7.7"
  }
 },
 "nbformat": 4,
 "nbformat_minor": 4
}
